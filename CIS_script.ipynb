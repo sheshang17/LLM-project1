{
 "cells": [
  {
   "cell_type": "code",
   "execution_count": null,
   "id": "e24cfd78-dfbd-474f-97f7-d2b955ad5b07",
   "metadata": {},
   "outputs": [],
   "source": [
    "#!pip install langchain\n",
    "#!pip install -U langchain-community\n",
    "#!pip install faiss-cpu\n",
    "#!pip install -U sentence-transformers\n",
    "#!pip install ctransformers"
   ]
  },
  {
   "cell_type": "code",
   "execution_count": null,
   "id": "14507463-f57c-49d0-a627-5210c96dbdad",
   "metadata": {},
   "outputs": [],
   "source": [
    "from langchain.document_loaders.csv_loader import CSVLoader\n",
    "from langchain.text_splitter import RecursiveCharacterTextSplitter\n",
    "from langchain.embeddings import HuggingFaceEmbeddings\n",
    "from langchain.vectorstores import FAISS\n",
    "from langchain.llms import CTransformers\n",
    "from langchain.memory import ConversationBufferMemory\n",
    "from langchain.chains import ConversationalRetrievalChain\n",
    "import sys"
   ]
  },
  {
   "cell_type": "code",
   "execution_count": null,
   "id": "12be98bc-bf35-4ef6-91d3-01bd88658712",
   "metadata": {
    "scrolled": true
   },
   "outputs": [],
   "source": [
    "DB_FAISS_PATH = \"vectorstore/db_faiss\"\n",
    "loader = CSVLoader(file_path=\"C:/Users/shesh/cis_project/CIS_Amazon_Web_Services_Foundations_Benchmark_v1.3.0.csv\", encoding=\"utf-8\", csv_args={'delimiter': ','})\n",
    "data = loader.load()\n",
    "print(data)"
   ]
  },
  {
   "cell_type": "code",
   "execution_count": null,
   "id": "304cda2d-f893-4239-883f-92c4aed1170c",
   "metadata": {},
   "outputs": [],
   "source": [
    "text_splitter = RecursiveCharacterTextSplitter(chunk_size=500, chunk_overlap=20)\n",
    "text_chunks = text_splitter.split_documents(data)"
   ]
  },
  {
   "cell_type": "code",
   "execution_count": null,
   "id": "96bcfedd-8a35-4f48-83df-3378953b158d",
   "metadata": {},
   "outputs": [],
   "source": [
    "embeddings = HuggingFaceEmbeddings(model_name = 'sentence-transformers/all-MiniLM-L6-v2')"
   ]
  },
  {
   "cell_type": "code",
   "execution_count": null,
   "id": "347a2eb2-115d-4f5f-997e-90fe33ec0632",
   "metadata": {},
   "outputs": [],
   "source": [
    "docsearch = FAISS.from_documents(text_chunks, embeddings)\n",
    "docsearch.save_local(DB_FAISS_PATH)"
   ]
  },
  {
   "cell_type": "code",
   "execution_count": null,
   "id": "73c5384f-56ec-4cfa-b1e4-eb792db6eb58",
   "metadata": {},
   "outputs": [],
   "source": [
    "\n",
    "#query = \"you can ask question here and answer will be find by the similarity surch\"\n",
    "\n",
    "#docs = docsearch.similarity_search(query, k=3)\n",
    "\n",
    "#print(\"Result\", docs)"
   ]
  },
  {
   "cell_type": "code",
   "execution_count": null,
   "id": "44dc9777-3576-4181-8e3d-606f7200580b",
   "metadata": {},
   "outputs": [],
   "source": [
    "\n",
    "llm = CTransformers(model=\"llama-2-7b-chat.ggmlv3.q4_0.bin\",\n",
    "                    model_type=\"llama\",\n",
    "                    max_new_tokens=512,\n",
    "                    temperature=0.4)\n",
    "\n",
    "qa = ConversationalRetrievalChain.from_llm(llm, retriever=docsearch.as_retriever())\n",
    "\n",
    "while True:\n",
    "    chat_history = []\n",
    "    \n",
    "    query = input(f\"Input Prompt: \")\n",
    "    if query == 'exit':\n",
    "        print('Exiting')\n",
    "        sys.exit()\n",
    "    if query == '':\n",
    "        continue\n",
    "    result = qa({\"question\":query, \"chat_history\":chat_history})\n",
    "    print(\"Response: \", result['answer'])"
   ]
  },
  {
   "cell_type": "code",
   "execution_count": null,
   "id": "150992f9-1764-4001-af0b-9725fa37d974",
   "metadata": {},
   "outputs": [],
   "source": []
  },
  {
   "cell_type": "code",
   "execution_count": null,
   "id": "6a5c14bb-4489-453b-897b-6aaee71d9f4a",
   "metadata": {},
   "outputs": [],
   "source": []
  }
 ],
 "metadata": {
  "kernelspec": {
   "display_name": "Python 3 (ipykernel)",
   "language": "python",
   "name": "python3"
  },
  "language_info": {
   "codemirror_mode": {
    "name": "ipython",
    "version": 3
   },
   "file_extension": ".py",
   "mimetype": "text/x-python",
   "name": "python",
   "nbconvert_exporter": "python",
   "pygments_lexer": "ipython3",
   "version": "3.11.9"
  }
 },
 "nbformat": 4,
 "nbformat_minor": 5
}
